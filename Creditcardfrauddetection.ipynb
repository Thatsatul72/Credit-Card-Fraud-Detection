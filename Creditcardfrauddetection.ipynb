{
  "nbformat": 4,
  "nbformat_minor": 0,
  "metadata": {
    "colab": {
      "provenance": [],
      "authorship_tag": "ABX9TyPt34ULFx2Xq5MZD+MwJisL",
      "include_colab_link": true
    },
    "kernelspec": {
      "name": "python3",
      "display_name": "Python 3"
    },
    "language_info": {
      "name": "python"
    }
  },
  "cells": [
    {
      "cell_type": "markdown",
      "metadata": {
        "id": "view-in-github",
        "colab_type": "text"
      },
      "source": [
        "<a href=\"https://colab.research.google.com/github/Thatsatul72/Credit-Card-Fraud-Detection/blob/main/Creditcardfrauddetection.ipynb\" target=\"_parent\"><img src=\"https://colab.research.google.com/assets/colab-badge.svg\" alt=\"Open In Colab\"/></a>"
      ]
    },
    {
      "cell_type": "code",
      "execution_count": null,
      "metadata": {
        "id": "dthky10U0tM6"
      },
      "outputs": [],
      "source": [
        "import numpy as np\n",
        "import pandas as pd\n",
        "from sklearn.model_selection import train_test_split\n",
        "from sklearn.linear_model import LogisticRegression\n",
        "from sklearn.metrics import accuracy_score"
      ]
    },
    {
      "cell_type": "code",
      "source": [
        "#loading the dataset to a pandas Dataframe\n",
        "credit_card_data = pd.read_csv('/content/creditcard.csv')"
      ],
      "metadata": {
        "id": "KD1KrxVh-xZU"
      },
      "execution_count": null,
      "outputs": []
    },
    {
      "cell_type": "code",
      "source": [
        "#first 5 rows of the dataset\n",
        "credit_card_data.head()"
      ],
      "metadata": {
        "colab": {
          "base_uri": "https://localhost:8080/",
          "height": 299
        },
        "id": "GQy432Nr_CZD",
        "outputId": "2c32b322-3c74-4467-fff8-96e03aa4717b"
      },
      "execution_count": null,
      "outputs": [
        {
          "output_type": "execute_result",
          "data": {
            "text/plain": [
              "   Time        V1        V2        V3        V4        V5        V6        V7  \\\n",
              "0   0.0 -1.359807 -0.072781  2.536347  1.378155 -0.338321  0.462388  0.239599   \n",
              "1   0.0  1.191857  0.266151  0.166480  0.448154  0.060018 -0.082361 -0.078803   \n",
              "2   1.0 -1.358354 -1.340163  1.773209  0.379780 -0.503198  1.800499  0.791461   \n",
              "3   1.0 -0.966272 -0.185226  1.792993 -0.863291 -0.010309  1.247203  0.237609   \n",
              "4   2.0 -1.158233  0.877737  1.548718  0.403034 -0.407193  0.095921  0.592941   \n",
              "\n",
              "         V8        V9  ...       V21       V22       V23       V24       V25  \\\n",
              "0  0.098698  0.363787  ... -0.018307  0.277838 -0.110474  0.066928  0.128539   \n",
              "1  0.085102 -0.255425  ... -0.225775 -0.638672  0.101288 -0.339846  0.167170   \n",
              "2  0.247676 -1.514654  ...  0.247998  0.771679  0.909412 -0.689281 -0.327642   \n",
              "3  0.377436 -1.387024  ... -0.108300  0.005274 -0.190321 -1.175575  0.647376   \n",
              "4 -0.270533  0.817739  ... -0.009431  0.798278 -0.137458  0.141267 -0.206010   \n",
              "\n",
              "        V26       V27       V28  Amount  Class  \n",
              "0 -0.189115  0.133558 -0.021053  149.62    0.0  \n",
              "1  0.125895 -0.008983  0.014724    2.69    0.0  \n",
              "2 -0.139097 -0.055353 -0.059752  378.66    0.0  \n",
              "3 -0.221929  0.062723  0.061458  123.50    0.0  \n",
              "4  0.502292  0.219422  0.215153   69.99    0.0  \n",
              "\n",
              "[5 rows x 31 columns]"
            ],
            "text/html": [
              "\n",
              "  <div id=\"df-f4c821a5-1d88-4270-8d68-483f4542bcd4\">\n",
              "    <div class=\"colab-df-container\">\n",
              "      <div>\n",
              "<style scoped>\n",
              "    .dataframe tbody tr th:only-of-type {\n",
              "        vertical-align: middle;\n",
              "    }\n",
              "\n",
              "    .dataframe tbody tr th {\n",
              "        vertical-align: top;\n",
              "    }\n",
              "\n",
              "    .dataframe thead th {\n",
              "        text-align: right;\n",
              "    }\n",
              "</style>\n",
              "<table border=\"1\" class=\"dataframe\">\n",
              "  <thead>\n",
              "    <tr style=\"text-align: right;\">\n",
              "      <th></th>\n",
              "      <th>Time</th>\n",
              "      <th>V1</th>\n",
              "      <th>V2</th>\n",
              "      <th>V3</th>\n",
              "      <th>V4</th>\n",
              "      <th>V5</th>\n",
              "      <th>V6</th>\n",
              "      <th>V7</th>\n",
              "      <th>V8</th>\n",
              "      <th>V9</th>\n",
              "      <th>...</th>\n",
              "      <th>V21</th>\n",
              "      <th>V22</th>\n",
              "      <th>V23</th>\n",
              "      <th>V24</th>\n",
              "      <th>V25</th>\n",
              "      <th>V26</th>\n",
              "      <th>V27</th>\n",
              "      <th>V28</th>\n",
              "      <th>Amount</th>\n",
              "      <th>Class</th>\n",
              "    </tr>\n",
              "  </thead>\n",
              "  <tbody>\n",
              "    <tr>\n",
              "      <th>0</th>\n",
              "      <td>0.0</td>\n",
              "      <td>-1.359807</td>\n",
              "      <td>-0.072781</td>\n",
              "      <td>2.536347</td>\n",
              "      <td>1.378155</td>\n",
              "      <td>-0.338321</td>\n",
              "      <td>0.462388</td>\n",
              "      <td>0.239599</td>\n",
              "      <td>0.098698</td>\n",
              "      <td>0.363787</td>\n",
              "      <td>...</td>\n",
              "      <td>-0.018307</td>\n",
              "      <td>0.277838</td>\n",
              "      <td>-0.110474</td>\n",
              "      <td>0.066928</td>\n",
              "      <td>0.128539</td>\n",
              "      <td>-0.189115</td>\n",
              "      <td>0.133558</td>\n",
              "      <td>-0.021053</td>\n",
              "      <td>149.62</td>\n",
              "      <td>0.0</td>\n",
              "    </tr>\n",
              "    <tr>\n",
              "      <th>1</th>\n",
              "      <td>0.0</td>\n",
              "      <td>1.191857</td>\n",
              "      <td>0.266151</td>\n",
              "      <td>0.166480</td>\n",
              "      <td>0.448154</td>\n",
              "      <td>0.060018</td>\n",
              "      <td>-0.082361</td>\n",
              "      <td>-0.078803</td>\n",
              "      <td>0.085102</td>\n",
              "      <td>-0.255425</td>\n",
              "      <td>...</td>\n",
              "      <td>-0.225775</td>\n",
              "      <td>-0.638672</td>\n",
              "      <td>0.101288</td>\n",
              "      <td>-0.339846</td>\n",
              "      <td>0.167170</td>\n",
              "      <td>0.125895</td>\n",
              "      <td>-0.008983</td>\n",
              "      <td>0.014724</td>\n",
              "      <td>2.69</td>\n",
              "      <td>0.0</td>\n",
              "    </tr>\n",
              "    <tr>\n",
              "      <th>2</th>\n",
              "      <td>1.0</td>\n",
              "      <td>-1.358354</td>\n",
              "      <td>-1.340163</td>\n",
              "      <td>1.773209</td>\n",
              "      <td>0.379780</td>\n",
              "      <td>-0.503198</td>\n",
              "      <td>1.800499</td>\n",
              "      <td>0.791461</td>\n",
              "      <td>0.247676</td>\n",
              "      <td>-1.514654</td>\n",
              "      <td>...</td>\n",
              "      <td>0.247998</td>\n",
              "      <td>0.771679</td>\n",
              "      <td>0.909412</td>\n",
              "      <td>-0.689281</td>\n",
              "      <td>-0.327642</td>\n",
              "      <td>-0.139097</td>\n",
              "      <td>-0.055353</td>\n",
              "      <td>-0.059752</td>\n",
              "      <td>378.66</td>\n",
              "      <td>0.0</td>\n",
              "    </tr>\n",
              "    <tr>\n",
              "      <th>3</th>\n",
              "      <td>1.0</td>\n",
              "      <td>-0.966272</td>\n",
              "      <td>-0.185226</td>\n",
              "      <td>1.792993</td>\n",
              "      <td>-0.863291</td>\n",
              "      <td>-0.010309</td>\n",
              "      <td>1.247203</td>\n",
              "      <td>0.237609</td>\n",
              "      <td>0.377436</td>\n",
              "      <td>-1.387024</td>\n",
              "      <td>...</td>\n",
              "      <td>-0.108300</td>\n",
              "      <td>0.005274</td>\n",
              "      <td>-0.190321</td>\n",
              "      <td>-1.175575</td>\n",
              "      <td>0.647376</td>\n",
              "      <td>-0.221929</td>\n",
              "      <td>0.062723</td>\n",
              "      <td>0.061458</td>\n",
              "      <td>123.50</td>\n",
              "      <td>0.0</td>\n",
              "    </tr>\n",
              "    <tr>\n",
              "      <th>4</th>\n",
              "      <td>2.0</td>\n",
              "      <td>-1.158233</td>\n",
              "      <td>0.877737</td>\n",
              "      <td>1.548718</td>\n",
              "      <td>0.403034</td>\n",
              "      <td>-0.407193</td>\n",
              "      <td>0.095921</td>\n",
              "      <td>0.592941</td>\n",
              "      <td>-0.270533</td>\n",
              "      <td>0.817739</td>\n",
              "      <td>...</td>\n",
              "      <td>-0.009431</td>\n",
              "      <td>0.798278</td>\n",
              "      <td>-0.137458</td>\n",
              "      <td>0.141267</td>\n",
              "      <td>-0.206010</td>\n",
              "      <td>0.502292</td>\n",
              "      <td>0.219422</td>\n",
              "      <td>0.215153</td>\n",
              "      <td>69.99</td>\n",
              "      <td>0.0</td>\n",
              "    </tr>\n",
              "  </tbody>\n",
              "</table>\n",
              "<p>5 rows × 31 columns</p>\n",
              "</div>\n",
              "      <button class=\"colab-df-convert\" onclick=\"convertToInteractive('df-f4c821a5-1d88-4270-8d68-483f4542bcd4')\"\n",
              "              title=\"Convert this dataframe to an interactive table.\"\n",
              "              style=\"display:none;\">\n",
              "        \n",
              "  <svg xmlns=\"http://www.w3.org/2000/svg\" height=\"24px\"viewBox=\"0 0 24 24\"\n",
              "       width=\"24px\">\n",
              "    <path d=\"M0 0h24v24H0V0z\" fill=\"none\"/>\n",
              "    <path d=\"M18.56 5.44l.94 2.06.94-2.06 2.06-.94-2.06-.94-.94-2.06-.94 2.06-2.06.94zm-11 1L8.5 8.5l.94-2.06 2.06-.94-2.06-.94L8.5 2.5l-.94 2.06-2.06.94zm10 10l.94 2.06.94-2.06 2.06-.94-2.06-.94-.94-2.06-.94 2.06-2.06.94z\"/><path d=\"M17.41 7.96l-1.37-1.37c-.4-.4-.92-.59-1.43-.59-.52 0-1.04.2-1.43.59L10.3 9.45l-7.72 7.72c-.78.78-.78 2.05 0 2.83L4 21.41c.39.39.9.59 1.41.59.51 0 1.02-.2 1.41-.59l7.78-7.78 2.81-2.81c.8-.78.8-2.07 0-2.86zM5.41 20L4 18.59l7.72-7.72 1.47 1.35L5.41 20z\"/>\n",
              "  </svg>\n",
              "      </button>\n",
              "      \n",
              "  <style>\n",
              "    .colab-df-container {\n",
              "      display:flex;\n",
              "      flex-wrap:wrap;\n",
              "      gap: 12px;\n",
              "    }\n",
              "\n",
              "    .colab-df-convert {\n",
              "      background-color: #E8F0FE;\n",
              "      border: none;\n",
              "      border-radius: 50%;\n",
              "      cursor: pointer;\n",
              "      display: none;\n",
              "      fill: #1967D2;\n",
              "      height: 32px;\n",
              "      padding: 0 0 0 0;\n",
              "      width: 32px;\n",
              "    }\n",
              "\n",
              "    .colab-df-convert:hover {\n",
              "      background-color: #E2EBFA;\n",
              "      box-shadow: 0px 1px 2px rgba(60, 64, 67, 0.3), 0px 1px 3px 1px rgba(60, 64, 67, 0.15);\n",
              "      fill: #174EA6;\n",
              "    }\n",
              "\n",
              "    [theme=dark] .colab-df-convert {\n",
              "      background-color: #3B4455;\n",
              "      fill: #D2E3FC;\n",
              "    }\n",
              "\n",
              "    [theme=dark] .colab-df-convert:hover {\n",
              "      background-color: #434B5C;\n",
              "      box-shadow: 0px 1px 3px 1px rgba(0, 0, 0, 0.15);\n",
              "      filter: drop-shadow(0px 1px 2px rgba(0, 0, 0, 0.3));\n",
              "      fill: #FFFFFF;\n",
              "    }\n",
              "  </style>\n",
              "\n",
              "      <script>\n",
              "        const buttonEl =\n",
              "          document.querySelector('#df-f4c821a5-1d88-4270-8d68-483f4542bcd4 button.colab-df-convert');\n",
              "        buttonEl.style.display =\n",
              "          google.colab.kernel.accessAllowed ? 'block' : 'none';\n",
              "\n",
              "        async function convertToInteractive(key) {\n",
              "          const element = document.querySelector('#df-f4c821a5-1d88-4270-8d68-483f4542bcd4');\n",
              "          const dataTable =\n",
              "            await google.colab.kernel.invokeFunction('convertToInteractive',\n",
              "                                                     [key], {});\n",
              "          if (!dataTable) return;\n",
              "\n",
              "          const docLinkHtml = 'Like what you see? Visit the ' +\n",
              "            '<a target=\"_blank\" href=https://colab.research.google.com/notebooks/data_table.ipynb>data table notebook</a>'\n",
              "            + ' to learn more about interactive tables.';\n",
              "          element.innerHTML = '';\n",
              "          dataTable['output_type'] = 'display_data';\n",
              "          await google.colab.output.renderOutput(dataTable, element);\n",
              "          const docLink = document.createElement('div');\n",
              "          docLink.innerHTML = docLinkHtml;\n",
              "          element.appendChild(docLink);\n",
              "        }\n",
              "      </script>\n",
              "    </div>\n",
              "  </div>\n",
              "  "
            ]
          },
          "metadata": {},
          "execution_count": 3
        }
      ]
    },
    {
      "cell_type": "code",
      "source": [
        "# Class 0 means valid transition  1 means fraud transition\n"
      ],
      "metadata": {
        "id": "H0RtDbEg_SZh"
      },
      "execution_count": null,
      "outputs": []
    },
    {
      "cell_type": "code",
      "source": [
        "credit_card_data.info()"
      ],
      "metadata": {
        "colab": {
          "base_uri": "https://localhost:8080/"
        },
        "id": "Y5TBbYABAPT9",
        "outputId": "b0d13df9-44f4-40c1-b034-24a79115d953"
      },
      "execution_count": null,
      "outputs": [
        {
          "output_type": "stream",
          "name": "stdout",
          "text": [
            "<class 'pandas.core.frame.DataFrame'>\n",
            "RangeIndex: 180351 entries, 0 to 180350\n",
            "Data columns (total 31 columns):\n",
            " #   Column  Non-Null Count   Dtype  \n",
            "---  ------  --------------   -----  \n",
            " 0   Time    180351 non-null  float64\n",
            " 1   V1      180351 non-null  float64\n",
            " 2   V2      180351 non-null  float64\n",
            " 3   V3      180351 non-null  float64\n",
            " 4   V4      180351 non-null  float64\n",
            " 5   V5      180351 non-null  float64\n",
            " 6   V6      180351 non-null  float64\n",
            " 7   V7      180351 non-null  float64\n",
            " 8   V8      180351 non-null  float64\n",
            " 9   V9      180350 non-null  float64\n",
            " 10  V10     180350 non-null  float64\n",
            " 11  V11     180350 non-null  float64\n",
            " 12  V12     180350 non-null  float64\n",
            " 13  V13     180350 non-null  float64\n",
            " 14  V14     180350 non-null  float64\n",
            " 15  V15     180350 non-null  float64\n",
            " 16  V16     180350 non-null  float64\n",
            " 17  V17     180350 non-null  float64\n",
            " 18  V18     180350 non-null  float64\n",
            " 19  V19     180350 non-null  float64\n",
            " 20  V20     180350 non-null  float64\n",
            " 21  V21     180350 non-null  float64\n",
            " 22  V22     180350 non-null  float64\n",
            " 23  V23     180350 non-null  float64\n",
            " 24  V24     180350 non-null  float64\n",
            " 25  V25     180350 non-null  float64\n",
            " 26  V26     180350 non-null  float64\n",
            " 27  V27     180350 non-null  float64\n",
            " 28  V28     180350 non-null  float64\n",
            " 29  Amount  180350 non-null  float64\n",
            " 30  Class   180350 non-null  float64\n",
            "dtypes: float64(31)\n",
            "memory usage: 42.7 MB\n"
          ]
        }
      ]
    },
    {
      "cell_type": "code",
      "source": [
        "#checking the number of missing values in each columns\n",
        "credit_card_data.isnull().sum()"
      ],
      "metadata": {
        "colab": {
          "base_uri": "https://localhost:8080/"
        },
        "id": "1vJ8ebaOAViA",
        "outputId": "8ddee87f-d5c5-420e-daa6-9bcb5abb488c"
      },
      "execution_count": null,
      "outputs": [
        {
          "output_type": "execute_result",
          "data": {
            "text/plain": [
              "Time      0\n",
              "V1        0\n",
              "V2        0\n",
              "V3        0\n",
              "V4        0\n",
              "V5        0\n",
              "V6        0\n",
              "V7        0\n",
              "V8        0\n",
              "V9        1\n",
              "V10       1\n",
              "V11       1\n",
              "V12       1\n",
              "V13       1\n",
              "V14       1\n",
              "V15       1\n",
              "V16       1\n",
              "V17       1\n",
              "V18       1\n",
              "V19       1\n",
              "V20       1\n",
              "V21       1\n",
              "V22       1\n",
              "V23       1\n",
              "V24       1\n",
              "V25       1\n",
              "V26       1\n",
              "V27       1\n",
              "V28       1\n",
              "Amount    1\n",
              "Class     1\n",
              "dtype: int64"
            ]
          },
          "metadata": {},
          "execution_count": 6
        }
      ]
    },
    {
      "cell_type": "code",
      "source": [
        "credit_card_data = credit_card_data.dropna()"
      ],
      "metadata": {
        "id": "fyo6V6XBAqwS"
      },
      "execution_count": null,
      "outputs": []
    },
    {
      "cell_type": "code",
      "source": [
        "credit_card_data.isnull().sum()"
      ],
      "metadata": {
        "colab": {
          "base_uri": "https://localhost:8080/"
        },
        "id": "cYpGFCV6BEm1",
        "outputId": "47122e60-4178-4727-8799-886fc81faf56"
      },
      "execution_count": null,
      "outputs": [
        {
          "output_type": "execute_result",
          "data": {
            "text/plain": [
              "Time      0\n",
              "V1        0\n",
              "V2        0\n",
              "V3        0\n",
              "V4        0\n",
              "V5        0\n",
              "V6        0\n",
              "V7        0\n",
              "V8        0\n",
              "V9        0\n",
              "V10       0\n",
              "V11       0\n",
              "V12       0\n",
              "V13       0\n",
              "V14       0\n",
              "V15       0\n",
              "V16       0\n",
              "V17       0\n",
              "V18       0\n",
              "V19       0\n",
              "V20       0\n",
              "V21       0\n",
              "V22       0\n",
              "V23       0\n",
              "V24       0\n",
              "V25       0\n",
              "V26       0\n",
              "V27       0\n",
              "V28       0\n",
              "Amount    0\n",
              "Class     0\n",
              "dtype: int64"
            ]
          },
          "metadata": {},
          "execution_count": 8
        }
      ]
    },
    {
      "cell_type": "code",
      "source": [
        "# distribution of legit transactions and fraud transactions\n",
        "credit_card_data['Class'].value_counts()"
      ],
      "metadata": {
        "colab": {
          "base_uri": "https://localhost:8080/"
        },
        "id": "PvPc97gcBISo",
        "outputId": "e216bfa0-738e-49d7-c2bc-7159a91c41d5"
      },
      "execution_count": null,
      "outputs": [
        {
          "output_type": "execute_result",
          "data": {
            "text/plain": [
              "0.0    179986\n",
              "1.0       364\n",
              "Name: Class, dtype: int64"
            ]
          },
          "metadata": {},
          "execution_count": 9
        }
      ]
    },
    {
      "cell_type": "markdown",
      "source": [
        "This  dataset is highly Unbalanced\n",
        "0->Normal Transaction\n",
        "1->Fraud Transaction"
      ],
      "metadata": {
        "id": "dsyVCgIGGUwV"
      }
    },
    {
      "cell_type": "code",
      "source": [
        "# separating the data for analysis\n",
        "legit = credit_card_data[credit_card_data.Class==0]\n",
        "fraud = credit_card_data[credit_card_data.Class==1]"
      ],
      "metadata": {
        "id": "fwNV-t1RBimU"
      },
      "execution_count": null,
      "outputs": []
    },
    {
      "cell_type": "code",
      "source": [
        "print(legit.shape)\n",
        "print(fraud.shape)"
      ],
      "metadata": {
        "colab": {
          "base_uri": "https://localhost:8080/"
        },
        "id": "PSe25nLVG_NQ",
        "outputId": "ac772985-1bab-4113-b176-2947cd57d9d8"
      },
      "execution_count": null,
      "outputs": [
        {
          "output_type": "stream",
          "name": "stdout",
          "text": [
            "(179986, 31)\n",
            "(364, 31)\n"
          ]
        }
      ]
    },
    {
      "cell_type": "code",
      "source": [
        "# statisical measures of data\n",
        "legit.Amount.describe()"
      ],
      "metadata": {
        "colab": {
          "base_uri": "https://localhost:8080/"
        },
        "id": "jDy-7GmZHJd_",
        "outputId": "90b43556-6d85-40e4-e2a3-becc3dfdb7ff"
      },
      "execution_count": null,
      "outputs": [
        {
          "output_type": "execute_result",
          "data": {
            "text/plain": [
              "count    179986.00000\n",
              "mean         88.19112\n",
              "std         246.98978\n",
              "min           0.00000\n",
              "25%           5.74000\n",
              "50%          22.24000\n",
              "75%          77.93000\n",
              "max       19656.53000\n",
              "Name: Amount, dtype: float64"
            ]
          },
          "metadata": {},
          "execution_count": 12
        }
      ]
    },
    {
      "cell_type": "code",
      "source": [
        "fraud.Amount.describe()"
      ],
      "metadata": {
        "colab": {
          "base_uri": "https://localhost:8080/"
        },
        "id": "dgTn8qqoHiDZ",
        "outputId": "db62b53d-eae8-44b2-c53a-bbc3d8e01d3d"
      },
      "execution_count": null,
      "outputs": [
        {
          "output_type": "execute_result",
          "data": {
            "text/plain": [
              "count     364.000000\n",
              "mean      116.743462\n",
              "std       249.586886\n",
              "min         0.000000\n",
              "25%         1.000000\n",
              "50%        11.395000\n",
              "75%       104.030000\n",
              "max      2125.870000\n",
              "Name: Amount, dtype: float64"
            ]
          },
          "metadata": {},
          "execution_count": 13
        }
      ]
    },
    {
      "cell_type": "code",
      "source": [
        "1 # compare the values for both transaction\n",
        "credit_card_data.groupby('Class').mean()"
      ],
      "metadata": {
        "colab": {
          "base_uri": "https://localhost:8080/",
          "height": 236
        },
        "id": "3Y5O73PiHsOI",
        "outputId": "f38f8a2f-4dd5-426e-d93f-8943b500e054"
      },
      "execution_count": null,
      "outputs": [
        {
          "output_type": "execute_result",
          "data": {
            "text/plain": [
              "               Time        V1        V2        V3        V4        V5  \\\n",
              "Class                                                                   \n",
              "0.0    64325.261476 -0.133518  0.016479  0.446990  0.089890 -0.146387   \n",
              "1.0    57374.343407 -5.992428  4.358422 -7.940295  4.868038 -4.344519   \n",
              "\n",
              "             V6        V7        V8        V9  ...       V20       V21  \\\n",
              "Class                                          ...                       \n",
              "0.0    0.057177 -0.057269  0.025063  0.021303  ...  0.026267 -0.024279   \n",
              "1.0   -1.432647 -6.964458  0.747432 -2.847610  ...  0.411224  0.796613   \n",
              "\n",
              "            V22       V23       V24       V25       V26       V27       V28  \\\n",
              "Class                                                                         \n",
              "0.0   -0.070453 -0.020042  0.007367  0.080854  0.010345  0.001693  0.002074   \n",
              "1.0   -0.019094 -0.042130 -0.072836  0.077923  0.036389  0.178167  0.048976   \n",
              "\n",
              "           Amount  \n",
              "Class              \n",
              "0.0     88.191120  \n",
              "1.0    116.743462  \n",
              "\n",
              "[2 rows x 30 columns]"
            ],
            "text/html": [
              "\n",
              "  <div id=\"df-213c149b-673a-44d9-b6c1-00502c99593c\">\n",
              "    <div class=\"colab-df-container\">\n",
              "      <div>\n",
              "<style scoped>\n",
              "    .dataframe tbody tr th:only-of-type {\n",
              "        vertical-align: middle;\n",
              "    }\n",
              "\n",
              "    .dataframe tbody tr th {\n",
              "        vertical-align: top;\n",
              "    }\n",
              "\n",
              "    .dataframe thead th {\n",
              "        text-align: right;\n",
              "    }\n",
              "</style>\n",
              "<table border=\"1\" class=\"dataframe\">\n",
              "  <thead>\n",
              "    <tr style=\"text-align: right;\">\n",
              "      <th></th>\n",
              "      <th>Time</th>\n",
              "      <th>V1</th>\n",
              "      <th>V2</th>\n",
              "      <th>V3</th>\n",
              "      <th>V4</th>\n",
              "      <th>V5</th>\n",
              "      <th>V6</th>\n",
              "      <th>V7</th>\n",
              "      <th>V8</th>\n",
              "      <th>V9</th>\n",
              "      <th>...</th>\n",
              "      <th>V20</th>\n",
              "      <th>V21</th>\n",
              "      <th>V22</th>\n",
              "      <th>V23</th>\n",
              "      <th>V24</th>\n",
              "      <th>V25</th>\n",
              "      <th>V26</th>\n",
              "      <th>V27</th>\n",
              "      <th>V28</th>\n",
              "      <th>Amount</th>\n",
              "    </tr>\n",
              "    <tr>\n",
              "      <th>Class</th>\n",
              "      <th></th>\n",
              "      <th></th>\n",
              "      <th></th>\n",
              "      <th></th>\n",
              "      <th></th>\n",
              "      <th></th>\n",
              "      <th></th>\n",
              "      <th></th>\n",
              "      <th></th>\n",
              "      <th></th>\n",
              "      <th></th>\n",
              "      <th></th>\n",
              "      <th></th>\n",
              "      <th></th>\n",
              "      <th></th>\n",
              "      <th></th>\n",
              "      <th></th>\n",
              "      <th></th>\n",
              "      <th></th>\n",
              "      <th></th>\n",
              "      <th></th>\n",
              "    </tr>\n",
              "  </thead>\n",
              "  <tbody>\n",
              "    <tr>\n",
              "      <th>0.0</th>\n",
              "      <td>64325.261476</td>\n",
              "      <td>-0.133518</td>\n",
              "      <td>0.016479</td>\n",
              "      <td>0.446990</td>\n",
              "      <td>0.089890</td>\n",
              "      <td>-0.146387</td>\n",
              "      <td>0.057177</td>\n",
              "      <td>-0.057269</td>\n",
              "      <td>0.025063</td>\n",
              "      <td>0.021303</td>\n",
              "      <td>...</td>\n",
              "      <td>0.026267</td>\n",
              "      <td>-0.024279</td>\n",
              "      <td>-0.070453</td>\n",
              "      <td>-0.020042</td>\n",
              "      <td>0.007367</td>\n",
              "      <td>0.080854</td>\n",
              "      <td>0.010345</td>\n",
              "      <td>0.001693</td>\n",
              "      <td>0.002074</td>\n",
              "      <td>88.191120</td>\n",
              "    </tr>\n",
              "    <tr>\n",
              "      <th>1.0</th>\n",
              "      <td>57374.343407</td>\n",
              "      <td>-5.992428</td>\n",
              "      <td>4.358422</td>\n",
              "      <td>-7.940295</td>\n",
              "      <td>4.868038</td>\n",
              "      <td>-4.344519</td>\n",
              "      <td>-1.432647</td>\n",
              "      <td>-6.964458</td>\n",
              "      <td>0.747432</td>\n",
              "      <td>-2.847610</td>\n",
              "      <td>...</td>\n",
              "      <td>0.411224</td>\n",
              "      <td>0.796613</td>\n",
              "      <td>-0.019094</td>\n",
              "      <td>-0.042130</td>\n",
              "      <td>-0.072836</td>\n",
              "      <td>0.077923</td>\n",
              "      <td>0.036389</td>\n",
              "      <td>0.178167</td>\n",
              "      <td>0.048976</td>\n",
              "      <td>116.743462</td>\n",
              "    </tr>\n",
              "  </tbody>\n",
              "</table>\n",
              "<p>2 rows × 30 columns</p>\n",
              "</div>\n",
              "      <button class=\"colab-df-convert\" onclick=\"convertToInteractive('df-213c149b-673a-44d9-b6c1-00502c99593c')\"\n",
              "              title=\"Convert this dataframe to an interactive table.\"\n",
              "              style=\"display:none;\">\n",
              "        \n",
              "  <svg xmlns=\"http://www.w3.org/2000/svg\" height=\"24px\"viewBox=\"0 0 24 24\"\n",
              "       width=\"24px\">\n",
              "    <path d=\"M0 0h24v24H0V0z\" fill=\"none\"/>\n",
              "    <path d=\"M18.56 5.44l.94 2.06.94-2.06 2.06-.94-2.06-.94-.94-2.06-.94 2.06-2.06.94zm-11 1L8.5 8.5l.94-2.06 2.06-.94-2.06-.94L8.5 2.5l-.94 2.06-2.06.94zm10 10l.94 2.06.94-2.06 2.06-.94-2.06-.94-.94-2.06-.94 2.06-2.06.94z\"/><path d=\"M17.41 7.96l-1.37-1.37c-.4-.4-.92-.59-1.43-.59-.52 0-1.04.2-1.43.59L10.3 9.45l-7.72 7.72c-.78.78-.78 2.05 0 2.83L4 21.41c.39.39.9.59 1.41.59.51 0 1.02-.2 1.41-.59l7.78-7.78 2.81-2.81c.8-.78.8-2.07 0-2.86zM5.41 20L4 18.59l7.72-7.72 1.47 1.35L5.41 20z\"/>\n",
              "  </svg>\n",
              "      </button>\n",
              "      \n",
              "  <style>\n",
              "    .colab-df-container {\n",
              "      display:flex;\n",
              "      flex-wrap:wrap;\n",
              "      gap: 12px;\n",
              "    }\n",
              "\n",
              "    .colab-df-convert {\n",
              "      background-color: #E8F0FE;\n",
              "      border: none;\n",
              "      border-radius: 50%;\n",
              "      cursor: pointer;\n",
              "      display: none;\n",
              "      fill: #1967D2;\n",
              "      height: 32px;\n",
              "      padding: 0 0 0 0;\n",
              "      width: 32px;\n",
              "    }\n",
              "\n",
              "    .colab-df-convert:hover {\n",
              "      background-color: #E2EBFA;\n",
              "      box-shadow: 0px 1px 2px rgba(60, 64, 67, 0.3), 0px 1px 3px 1px rgba(60, 64, 67, 0.15);\n",
              "      fill: #174EA6;\n",
              "    }\n",
              "\n",
              "    [theme=dark] .colab-df-convert {\n",
              "      background-color: #3B4455;\n",
              "      fill: #D2E3FC;\n",
              "    }\n",
              "\n",
              "    [theme=dark] .colab-df-convert:hover {\n",
              "      background-color: #434B5C;\n",
              "      box-shadow: 0px 1px 3px 1px rgba(0, 0, 0, 0.15);\n",
              "      filter: drop-shadow(0px 1px 2px rgba(0, 0, 0, 0.3));\n",
              "      fill: #FFFFFF;\n",
              "    }\n",
              "  </style>\n",
              "\n",
              "      <script>\n",
              "        const buttonEl =\n",
              "          document.querySelector('#df-213c149b-673a-44d9-b6c1-00502c99593c button.colab-df-convert');\n",
              "        buttonEl.style.display =\n",
              "          google.colab.kernel.accessAllowed ? 'block' : 'none';\n",
              "\n",
              "        async function convertToInteractive(key) {\n",
              "          const element = document.querySelector('#df-213c149b-673a-44d9-b6c1-00502c99593c');\n",
              "          const dataTable =\n",
              "            await google.colab.kernel.invokeFunction('convertToInteractive',\n",
              "                                                     [key], {});\n",
              "          if (!dataTable) return;\n",
              "\n",
              "          const docLinkHtml = 'Like what you see? Visit the ' +\n",
              "            '<a target=\"_blank\" href=https://colab.research.google.com/notebooks/data_table.ipynb>data table notebook</a>'\n",
              "            + ' to learn more about interactive tables.';\n",
              "          element.innerHTML = '';\n",
              "          dataTable['output_type'] = 'display_data';\n",
              "          await google.colab.output.renderOutput(dataTable, element);\n",
              "          const docLink = document.createElement('div');\n",
              "          docLink.innerHTML = docLinkHtml;\n",
              "          element.appendChild(docLink);\n",
              "        }\n",
              "      </script>\n",
              "    </div>\n",
              "  </div>\n",
              "  "
            ]
          },
          "metadata": {},
          "execution_count": 14
        }
      ]
    },
    {
      "cell_type": "markdown",
      "source": [
        "Under Sampling\n",
        "Build a sample dataset containing similar distributaion of nornaml and Fraudulent Transactions\n",
        "\n",
        "Number of Fraudulent Transactions->364"
      ],
      "metadata": {
        "id": "kqWv1yG2IeUO"
      }
    },
    {
      "cell_type": "code",
      "source": [
        "legit_sample = legit.sample(n=364)"
      ],
      "metadata": {
        "id": "r8a3ydzpIJjZ"
      },
      "execution_count": null,
      "outputs": []
    },
    {
      "cell_type": "markdown",
      "source": [
        "Concatenating two dataframe"
      ],
      "metadata": {
        "id": "_1R4Ep2qJZK_"
      }
    },
    {
      "cell_type": "code",
      "source": [
        "new_dataset = pd.concat([legit_sample,fraud],axis=0)"
      ],
      "metadata": {
        "id": "zfkwMXo5JX_d"
      },
      "execution_count": null,
      "outputs": []
    },
    {
      "cell_type": "code",
      "source": [
        "new_dataset.head()"
      ],
      "metadata": {
        "colab": {
          "base_uri": "https://localhost:8080/",
          "height": 299
        },
        "id": "i_yl8X8GLeR5",
        "outputId": "13bd4adf-9292-4873-f127-1cb139d20e2d"
      },
      "execution_count": null,
      "outputs": [
        {
          "output_type": "execute_result",
          "data": {
            "text/plain": [
              "           Time        V1        V2        V3        V4        V5        V6  \\\n",
              "71619   54367.0 -0.151237  0.353721  1.372238 -1.072816 -0.496732 -1.140834   \n",
              "22956   32520.0 -7.265237 -8.704632  1.458271 -1.630168  4.616752 -4.844677   \n",
              "119676  75539.0 -1.295541  1.242368  1.565300 -1.407033 -0.381812 -0.479378   \n",
              "39399   39819.0 -1.349717  1.630477  0.268187  1.149528  0.053455  0.367432   \n",
              "3289     2834.0  1.250249  0.019063 -1.326108 -0.039059  2.232341  3.300602   \n",
              "\n",
              "              V7        V8        V9  ...       V21       V22       V23  \\\n",
              "71619   0.459801 -0.281051 -1.489977  ...  0.258975  0.804434 -0.279670   \n",
              "22956  -3.189286  0.062207  0.767808  ... -0.400784 -0.503293  1.070866   \n",
              "119676  0.086132 -1.571468 -0.186547  ...  1.521985 -0.505996  0.143329   \n",
              "39399  -0.141463  0.983998 -0.479086  ... -0.032642  0.117178 -0.208146   \n",
              "3289   -0.326435  0.757703 -0.156352  ... -0.009900 -0.189322 -0.157734   \n",
              "\n",
              "             V24       V25       V26       V27       V28  Amount  Class  \n",
              "71619   0.777723  0.307530 -0.128688  0.048109  0.048398    9.00    0.0  \n",
              "22956   0.579892  1.081431 -0.338864 -0.935310  2.387954  133.57    0.0  \n",
              "119676  0.561538 -0.355607  0.687694  0.217939  0.168708   23.08    0.0  \n",
              "39399  -0.734161  0.130288 -0.164929  0.315291  0.093100    7.95    0.0  \n",
              "3289    1.005326  0.838403 -0.315582  0.011439  0.018031   30.00    0.0  \n",
              "\n",
              "[5 rows x 31 columns]"
            ],
            "text/html": [
              "\n",
              "  <div id=\"df-cb1499e4-391e-4ca5-9d80-e2b25db20aaf\">\n",
              "    <div class=\"colab-df-container\">\n",
              "      <div>\n",
              "<style scoped>\n",
              "    .dataframe tbody tr th:only-of-type {\n",
              "        vertical-align: middle;\n",
              "    }\n",
              "\n",
              "    .dataframe tbody tr th {\n",
              "        vertical-align: top;\n",
              "    }\n",
              "\n",
              "    .dataframe thead th {\n",
              "        text-align: right;\n",
              "    }\n",
              "</style>\n",
              "<table border=\"1\" class=\"dataframe\">\n",
              "  <thead>\n",
              "    <tr style=\"text-align: right;\">\n",
              "      <th></th>\n",
              "      <th>Time</th>\n",
              "      <th>V1</th>\n",
              "      <th>V2</th>\n",
              "      <th>V3</th>\n",
              "      <th>V4</th>\n",
              "      <th>V5</th>\n",
              "      <th>V6</th>\n",
              "      <th>V7</th>\n",
              "      <th>V8</th>\n",
              "      <th>V9</th>\n",
              "      <th>...</th>\n",
              "      <th>V21</th>\n",
              "      <th>V22</th>\n",
              "      <th>V23</th>\n",
              "      <th>V24</th>\n",
              "      <th>V25</th>\n",
              "      <th>V26</th>\n",
              "      <th>V27</th>\n",
              "      <th>V28</th>\n",
              "      <th>Amount</th>\n",
              "      <th>Class</th>\n",
              "    </tr>\n",
              "  </thead>\n",
              "  <tbody>\n",
              "    <tr>\n",
              "      <th>71619</th>\n",
              "      <td>54367.0</td>\n",
              "      <td>-0.151237</td>\n",
              "      <td>0.353721</td>\n",
              "      <td>1.372238</td>\n",
              "      <td>-1.072816</td>\n",
              "      <td>-0.496732</td>\n",
              "      <td>-1.140834</td>\n",
              "      <td>0.459801</td>\n",
              "      <td>-0.281051</td>\n",
              "      <td>-1.489977</td>\n",
              "      <td>...</td>\n",
              "      <td>0.258975</td>\n",
              "      <td>0.804434</td>\n",
              "      <td>-0.279670</td>\n",
              "      <td>0.777723</td>\n",
              "      <td>0.307530</td>\n",
              "      <td>-0.128688</td>\n",
              "      <td>0.048109</td>\n",
              "      <td>0.048398</td>\n",
              "      <td>9.00</td>\n",
              "      <td>0.0</td>\n",
              "    </tr>\n",
              "    <tr>\n",
              "      <th>22956</th>\n",
              "      <td>32520.0</td>\n",
              "      <td>-7.265237</td>\n",
              "      <td>-8.704632</td>\n",
              "      <td>1.458271</td>\n",
              "      <td>-1.630168</td>\n",
              "      <td>4.616752</td>\n",
              "      <td>-4.844677</td>\n",
              "      <td>-3.189286</td>\n",
              "      <td>0.062207</td>\n",
              "      <td>0.767808</td>\n",
              "      <td>...</td>\n",
              "      <td>-0.400784</td>\n",
              "      <td>-0.503293</td>\n",
              "      <td>1.070866</td>\n",
              "      <td>0.579892</td>\n",
              "      <td>1.081431</td>\n",
              "      <td>-0.338864</td>\n",
              "      <td>-0.935310</td>\n",
              "      <td>2.387954</td>\n",
              "      <td>133.57</td>\n",
              "      <td>0.0</td>\n",
              "    </tr>\n",
              "    <tr>\n",
              "      <th>119676</th>\n",
              "      <td>75539.0</td>\n",
              "      <td>-1.295541</td>\n",
              "      <td>1.242368</td>\n",
              "      <td>1.565300</td>\n",
              "      <td>-1.407033</td>\n",
              "      <td>-0.381812</td>\n",
              "      <td>-0.479378</td>\n",
              "      <td>0.086132</td>\n",
              "      <td>-1.571468</td>\n",
              "      <td>-0.186547</td>\n",
              "      <td>...</td>\n",
              "      <td>1.521985</td>\n",
              "      <td>-0.505996</td>\n",
              "      <td>0.143329</td>\n",
              "      <td>0.561538</td>\n",
              "      <td>-0.355607</td>\n",
              "      <td>0.687694</td>\n",
              "      <td>0.217939</td>\n",
              "      <td>0.168708</td>\n",
              "      <td>23.08</td>\n",
              "      <td>0.0</td>\n",
              "    </tr>\n",
              "    <tr>\n",
              "      <th>39399</th>\n",
              "      <td>39819.0</td>\n",
              "      <td>-1.349717</td>\n",
              "      <td>1.630477</td>\n",
              "      <td>0.268187</td>\n",
              "      <td>1.149528</td>\n",
              "      <td>0.053455</td>\n",
              "      <td>0.367432</td>\n",
              "      <td>-0.141463</td>\n",
              "      <td>0.983998</td>\n",
              "      <td>-0.479086</td>\n",
              "      <td>...</td>\n",
              "      <td>-0.032642</td>\n",
              "      <td>0.117178</td>\n",
              "      <td>-0.208146</td>\n",
              "      <td>-0.734161</td>\n",
              "      <td>0.130288</td>\n",
              "      <td>-0.164929</td>\n",
              "      <td>0.315291</td>\n",
              "      <td>0.093100</td>\n",
              "      <td>7.95</td>\n",
              "      <td>0.0</td>\n",
              "    </tr>\n",
              "    <tr>\n",
              "      <th>3289</th>\n",
              "      <td>2834.0</td>\n",
              "      <td>1.250249</td>\n",
              "      <td>0.019063</td>\n",
              "      <td>-1.326108</td>\n",
              "      <td>-0.039059</td>\n",
              "      <td>2.232341</td>\n",
              "      <td>3.300602</td>\n",
              "      <td>-0.326435</td>\n",
              "      <td>0.757703</td>\n",
              "      <td>-0.156352</td>\n",
              "      <td>...</td>\n",
              "      <td>-0.009900</td>\n",
              "      <td>-0.189322</td>\n",
              "      <td>-0.157734</td>\n",
              "      <td>1.005326</td>\n",
              "      <td>0.838403</td>\n",
              "      <td>-0.315582</td>\n",
              "      <td>0.011439</td>\n",
              "      <td>0.018031</td>\n",
              "      <td>30.00</td>\n",
              "      <td>0.0</td>\n",
              "    </tr>\n",
              "  </tbody>\n",
              "</table>\n",
              "<p>5 rows × 31 columns</p>\n",
              "</div>\n",
              "      <button class=\"colab-df-convert\" onclick=\"convertToInteractive('df-cb1499e4-391e-4ca5-9d80-e2b25db20aaf')\"\n",
              "              title=\"Convert this dataframe to an interactive table.\"\n",
              "              style=\"display:none;\">\n",
              "        \n",
              "  <svg xmlns=\"http://www.w3.org/2000/svg\" height=\"24px\"viewBox=\"0 0 24 24\"\n",
              "       width=\"24px\">\n",
              "    <path d=\"M0 0h24v24H0V0z\" fill=\"none\"/>\n",
              "    <path d=\"M18.56 5.44l.94 2.06.94-2.06 2.06-.94-2.06-.94-.94-2.06-.94 2.06-2.06.94zm-11 1L8.5 8.5l.94-2.06 2.06-.94-2.06-.94L8.5 2.5l-.94 2.06-2.06.94zm10 10l.94 2.06.94-2.06 2.06-.94-2.06-.94-.94-2.06-.94 2.06-2.06.94z\"/><path d=\"M17.41 7.96l-1.37-1.37c-.4-.4-.92-.59-1.43-.59-.52 0-1.04.2-1.43.59L10.3 9.45l-7.72 7.72c-.78.78-.78 2.05 0 2.83L4 21.41c.39.39.9.59 1.41.59.51 0 1.02-.2 1.41-.59l7.78-7.78 2.81-2.81c.8-.78.8-2.07 0-2.86zM5.41 20L4 18.59l7.72-7.72 1.47 1.35L5.41 20z\"/>\n",
              "  </svg>\n",
              "      </button>\n",
              "      \n",
              "  <style>\n",
              "    .colab-df-container {\n",
              "      display:flex;\n",
              "      flex-wrap:wrap;\n",
              "      gap: 12px;\n",
              "    }\n",
              "\n",
              "    .colab-df-convert {\n",
              "      background-color: #E8F0FE;\n",
              "      border: none;\n",
              "      border-radius: 50%;\n",
              "      cursor: pointer;\n",
              "      display: none;\n",
              "      fill: #1967D2;\n",
              "      height: 32px;\n",
              "      padding: 0 0 0 0;\n",
              "      width: 32px;\n",
              "    }\n",
              "\n",
              "    .colab-df-convert:hover {\n",
              "      background-color: #E2EBFA;\n",
              "      box-shadow: 0px 1px 2px rgba(60, 64, 67, 0.3), 0px 1px 3px 1px rgba(60, 64, 67, 0.15);\n",
              "      fill: #174EA6;\n",
              "    }\n",
              "\n",
              "    [theme=dark] .colab-df-convert {\n",
              "      background-color: #3B4455;\n",
              "      fill: #D2E3FC;\n",
              "    }\n",
              "\n",
              "    [theme=dark] .colab-df-convert:hover {\n",
              "      background-color: #434B5C;\n",
              "      box-shadow: 0px 1px 3px 1px rgba(0, 0, 0, 0.15);\n",
              "      filter: drop-shadow(0px 1px 2px rgba(0, 0, 0, 0.3));\n",
              "      fill: #FFFFFF;\n",
              "    }\n",
              "  </style>\n",
              "\n",
              "      <script>\n",
              "        const buttonEl =\n",
              "          document.querySelector('#df-cb1499e4-391e-4ca5-9d80-e2b25db20aaf button.colab-df-convert');\n",
              "        buttonEl.style.display =\n",
              "          google.colab.kernel.accessAllowed ? 'block' : 'none';\n",
              "\n",
              "        async function convertToInteractive(key) {\n",
              "          const element = document.querySelector('#df-cb1499e4-391e-4ca5-9d80-e2b25db20aaf');\n",
              "          const dataTable =\n",
              "            await google.colab.kernel.invokeFunction('convertToInteractive',\n",
              "                                                     [key], {});\n",
              "          if (!dataTable) return;\n",
              "\n",
              "          const docLinkHtml = 'Like what you see? Visit the ' +\n",
              "            '<a target=\"_blank\" href=https://colab.research.google.com/notebooks/data_table.ipynb>data table notebook</a>'\n",
              "            + ' to learn more about interactive tables.';\n",
              "          element.innerHTML = '';\n",
              "          dataTable['output_type'] = 'display_data';\n",
              "          await google.colab.output.renderOutput(dataTable, element);\n",
              "          const docLink = document.createElement('div');\n",
              "          docLink.innerHTML = docLinkHtml;\n",
              "          element.appendChild(docLink);\n",
              "        }\n",
              "      </script>\n",
              "    </div>\n",
              "  </div>\n",
              "  "
            ]
          },
          "metadata": {},
          "execution_count": 18
        }
      ]
    },
    {
      "cell_type": "code",
      "source": [
        "new_dataset['Class'].value_counts()"
      ],
      "metadata": {
        "colab": {
          "base_uri": "https://localhost:8080/"
        },
        "id": "i2sEbaNULwj3",
        "outputId": "e7d02ec1-2c7f-4988-8bd4-5c986d173a66"
      },
      "execution_count": null,
      "outputs": [
        {
          "output_type": "execute_result",
          "data": {
            "text/plain": [
              "0.0    364\n",
              "1.0    364\n",
              "Name: Class, dtype: int64"
            ]
          },
          "metadata": {},
          "execution_count": 19
        }
      ]
    },
    {
      "cell_type": "code",
      "source": [
        "new_dataset.groupby('Class').mean()"
      ],
      "metadata": {
        "colab": {
          "base_uri": "https://localhost:8080/",
          "height": 236
        },
        "id": "Y258bdxKMRvL",
        "outputId": "644ea72e-bf19-4e64-eed5-597cb8ca7a6a"
      },
      "execution_count": null,
      "outputs": [
        {
          "output_type": "execute_result",
          "data": {
            "text/plain": [
              "               Time        V1        V2        V3        V4        V5  \\\n",
              "Class                                                                   \n",
              "0.0    64258.228022 -0.021780  0.094831  0.569682  0.069485 -0.141115   \n",
              "1.0    57374.343407 -5.992428  4.358422 -7.940295  4.868038 -4.344519   \n",
              "\n",
              "             V6        V7        V8        V9  ...       V20       V21  \\\n",
              "Class                                          ...                       \n",
              "0.0   -0.034490  0.034385  0.057947  0.002645  ...  0.023675 -0.016402   \n",
              "1.0   -1.432647 -6.964458  0.747432 -2.847610  ...  0.411224  0.796613   \n",
              "\n",
              "            V22       V23       V24       V25       V26       V27       V28  \\\n",
              "Class                                                                         \n",
              "0.0   -0.062462 -0.034083  0.012121  0.043706 -0.001951  0.023006  0.023661   \n",
              "1.0   -0.019094 -0.042130 -0.072836  0.077923  0.036389  0.178167  0.048976   \n",
              "\n",
              "           Amount  \n",
              "Class              \n",
              "0.0     79.150385  \n",
              "1.0    116.743462  \n",
              "\n",
              "[2 rows x 30 columns]"
            ],
            "text/html": [
              "\n",
              "  <div id=\"df-73c3e21d-8590-45da-bd91-f7176a41777d\">\n",
              "    <div class=\"colab-df-container\">\n",
              "      <div>\n",
              "<style scoped>\n",
              "    .dataframe tbody tr th:only-of-type {\n",
              "        vertical-align: middle;\n",
              "    }\n",
              "\n",
              "    .dataframe tbody tr th {\n",
              "        vertical-align: top;\n",
              "    }\n",
              "\n",
              "    .dataframe thead th {\n",
              "        text-align: right;\n",
              "    }\n",
              "</style>\n",
              "<table border=\"1\" class=\"dataframe\">\n",
              "  <thead>\n",
              "    <tr style=\"text-align: right;\">\n",
              "      <th></th>\n",
              "      <th>Time</th>\n",
              "      <th>V1</th>\n",
              "      <th>V2</th>\n",
              "      <th>V3</th>\n",
              "      <th>V4</th>\n",
              "      <th>V5</th>\n",
              "      <th>V6</th>\n",
              "      <th>V7</th>\n",
              "      <th>V8</th>\n",
              "      <th>V9</th>\n",
              "      <th>...</th>\n",
              "      <th>V20</th>\n",
              "      <th>V21</th>\n",
              "      <th>V22</th>\n",
              "      <th>V23</th>\n",
              "      <th>V24</th>\n",
              "      <th>V25</th>\n",
              "      <th>V26</th>\n",
              "      <th>V27</th>\n",
              "      <th>V28</th>\n",
              "      <th>Amount</th>\n",
              "    </tr>\n",
              "    <tr>\n",
              "      <th>Class</th>\n",
              "      <th></th>\n",
              "      <th></th>\n",
              "      <th></th>\n",
              "      <th></th>\n",
              "      <th></th>\n",
              "      <th></th>\n",
              "      <th></th>\n",
              "      <th></th>\n",
              "      <th></th>\n",
              "      <th></th>\n",
              "      <th></th>\n",
              "      <th></th>\n",
              "      <th></th>\n",
              "      <th></th>\n",
              "      <th></th>\n",
              "      <th></th>\n",
              "      <th></th>\n",
              "      <th></th>\n",
              "      <th></th>\n",
              "      <th></th>\n",
              "      <th></th>\n",
              "    </tr>\n",
              "  </thead>\n",
              "  <tbody>\n",
              "    <tr>\n",
              "      <th>0.0</th>\n",
              "      <td>64258.228022</td>\n",
              "      <td>-0.021780</td>\n",
              "      <td>0.094831</td>\n",
              "      <td>0.569682</td>\n",
              "      <td>0.069485</td>\n",
              "      <td>-0.141115</td>\n",
              "      <td>-0.034490</td>\n",
              "      <td>0.034385</td>\n",
              "      <td>0.057947</td>\n",
              "      <td>0.002645</td>\n",
              "      <td>...</td>\n",
              "      <td>0.023675</td>\n",
              "      <td>-0.016402</td>\n",
              "      <td>-0.062462</td>\n",
              "      <td>-0.034083</td>\n",
              "      <td>0.012121</td>\n",
              "      <td>0.043706</td>\n",
              "      <td>-0.001951</td>\n",
              "      <td>0.023006</td>\n",
              "      <td>0.023661</td>\n",
              "      <td>79.150385</td>\n",
              "    </tr>\n",
              "    <tr>\n",
              "      <th>1.0</th>\n",
              "      <td>57374.343407</td>\n",
              "      <td>-5.992428</td>\n",
              "      <td>4.358422</td>\n",
              "      <td>-7.940295</td>\n",
              "      <td>4.868038</td>\n",
              "      <td>-4.344519</td>\n",
              "      <td>-1.432647</td>\n",
              "      <td>-6.964458</td>\n",
              "      <td>0.747432</td>\n",
              "      <td>-2.847610</td>\n",
              "      <td>...</td>\n",
              "      <td>0.411224</td>\n",
              "      <td>0.796613</td>\n",
              "      <td>-0.019094</td>\n",
              "      <td>-0.042130</td>\n",
              "      <td>-0.072836</td>\n",
              "      <td>0.077923</td>\n",
              "      <td>0.036389</td>\n",
              "      <td>0.178167</td>\n",
              "      <td>0.048976</td>\n",
              "      <td>116.743462</td>\n",
              "    </tr>\n",
              "  </tbody>\n",
              "</table>\n",
              "<p>2 rows × 30 columns</p>\n",
              "</div>\n",
              "      <button class=\"colab-df-convert\" onclick=\"convertToInteractive('df-73c3e21d-8590-45da-bd91-f7176a41777d')\"\n",
              "              title=\"Convert this dataframe to an interactive table.\"\n",
              "              style=\"display:none;\">\n",
              "        \n",
              "  <svg xmlns=\"http://www.w3.org/2000/svg\" height=\"24px\"viewBox=\"0 0 24 24\"\n",
              "       width=\"24px\">\n",
              "    <path d=\"M0 0h24v24H0V0z\" fill=\"none\"/>\n",
              "    <path d=\"M18.56 5.44l.94 2.06.94-2.06 2.06-.94-2.06-.94-.94-2.06-.94 2.06-2.06.94zm-11 1L8.5 8.5l.94-2.06 2.06-.94-2.06-.94L8.5 2.5l-.94 2.06-2.06.94zm10 10l.94 2.06.94-2.06 2.06-.94-2.06-.94-.94-2.06-.94 2.06-2.06.94z\"/><path d=\"M17.41 7.96l-1.37-1.37c-.4-.4-.92-.59-1.43-.59-.52 0-1.04.2-1.43.59L10.3 9.45l-7.72 7.72c-.78.78-.78 2.05 0 2.83L4 21.41c.39.39.9.59 1.41.59.51 0 1.02-.2 1.41-.59l7.78-7.78 2.81-2.81c.8-.78.8-2.07 0-2.86zM5.41 20L4 18.59l7.72-7.72 1.47 1.35L5.41 20z\"/>\n",
              "  </svg>\n",
              "      </button>\n",
              "      \n",
              "  <style>\n",
              "    .colab-df-container {\n",
              "      display:flex;\n",
              "      flex-wrap:wrap;\n",
              "      gap: 12px;\n",
              "    }\n",
              "\n",
              "    .colab-df-convert {\n",
              "      background-color: #E8F0FE;\n",
              "      border: none;\n",
              "      border-radius: 50%;\n",
              "      cursor: pointer;\n",
              "      display: none;\n",
              "      fill: #1967D2;\n",
              "      height: 32px;\n",
              "      padding: 0 0 0 0;\n",
              "      width: 32px;\n",
              "    }\n",
              "\n",
              "    .colab-df-convert:hover {\n",
              "      background-color: #E2EBFA;\n",
              "      box-shadow: 0px 1px 2px rgba(60, 64, 67, 0.3), 0px 1px 3px 1px rgba(60, 64, 67, 0.15);\n",
              "      fill: #174EA6;\n",
              "    }\n",
              "\n",
              "    [theme=dark] .colab-df-convert {\n",
              "      background-color: #3B4455;\n",
              "      fill: #D2E3FC;\n",
              "    }\n",
              "\n",
              "    [theme=dark] .colab-df-convert:hover {\n",
              "      background-color: #434B5C;\n",
              "      box-shadow: 0px 1px 3px 1px rgba(0, 0, 0, 0.15);\n",
              "      filter: drop-shadow(0px 1px 2px rgba(0, 0, 0, 0.3));\n",
              "      fill: #FFFFFF;\n",
              "    }\n",
              "  </style>\n",
              "\n",
              "      <script>\n",
              "        const buttonEl =\n",
              "          document.querySelector('#df-73c3e21d-8590-45da-bd91-f7176a41777d button.colab-df-convert');\n",
              "        buttonEl.style.display =\n",
              "          google.colab.kernel.accessAllowed ? 'block' : 'none';\n",
              "\n",
              "        async function convertToInteractive(key) {\n",
              "          const element = document.querySelector('#df-73c3e21d-8590-45da-bd91-f7176a41777d');\n",
              "          const dataTable =\n",
              "            await google.colab.kernel.invokeFunction('convertToInteractive',\n",
              "                                                     [key], {});\n",
              "          if (!dataTable) return;\n",
              "\n",
              "          const docLinkHtml = 'Like what you see? Visit the ' +\n",
              "            '<a target=\"_blank\" href=https://colab.research.google.com/notebooks/data_table.ipynb>data table notebook</a>'\n",
              "            + ' to learn more about interactive tables.';\n",
              "          element.innerHTML = '';\n",
              "          dataTable['output_type'] = 'display_data';\n",
              "          await google.colab.output.renderOutput(dataTable, element);\n",
              "          const docLink = document.createElement('div');\n",
              "          docLink.innerHTML = docLinkHtml;\n",
              "          element.appendChild(docLink);\n",
              "        }\n",
              "      </script>\n",
              "    </div>\n",
              "  </div>\n",
              "  "
            ]
          },
          "metadata": {},
          "execution_count": 20
        }
      ]
    },
    {
      "cell_type": "markdown",
      "source": [
        "Splitting the data into features and targets"
      ],
      "metadata": {
        "id": "pAHN-mDpMvEJ"
      }
    },
    {
      "cell_type": "code",
      "source": [
        "X = new_dataset.drop(columns='Class',axis=1)\n",
        "Y = new_dataset['Class']"
      ],
      "metadata": {
        "id": "dD2SLvm3MaWE"
      },
      "execution_count": null,
      "outputs": []
    },
    {
      "cell_type": "code",
      "source": [
        "print(X)"
      ],
      "metadata": {
        "colab": {
          "base_uri": "https://localhost:8080/"
        },
        "id": "YBS__A6SMr1O",
        "outputId": "01eb667e-244f-46b6-9331-1be697080e0b"
      },
      "execution_count": null,
      "outputs": [
        {
          "output_type": "stream",
          "name": "stdout",
          "text": [
            "            Time        V1        V2        V3        V4        V5        V6  \\\n",
            "71619    54367.0 -0.151237  0.353721  1.372238 -1.072816 -0.496732 -1.140834   \n",
            "22956    32520.0 -7.265237 -8.704632  1.458271 -1.630168  4.616752 -4.844677   \n",
            "119676   75539.0 -1.295541  1.242368  1.565300 -1.407033 -0.381812 -0.479378   \n",
            "39399    39819.0 -1.349717  1.630477  0.268187  1.149528  0.053455  0.367432   \n",
            "3289      2834.0  1.250249  0.019063 -1.326108 -0.039059  2.232341  3.300602   \n",
            "...          ...       ...       ...       ...       ...       ...       ...   \n",
            "167305  118603.0 -6.677212  5.529299 -7.193275  6.081321 -1.636071  0.500610   \n",
            "172787  121238.0 -2.628922  2.275636 -3.745369  1.226948 -1.132966 -1.256353   \n",
            "176049  122608.0 -2.003460 -7.159042 -4.050976  1.309580 -2.058102 -0.098621   \n",
            "177195  123078.0 -1.073820  0.415616 -2.273977  1.536844 -0.758697 -1.670381   \n",
            "178208  123525.0 -5.904921  4.439911 -8.631802  7.788684 -4.989580 -1.200144   \n",
            "\n",
            "              V7        V8        V9  ...       V20       V21       V22  \\\n",
            "71619   0.459801 -0.281051 -1.489977  ...  0.139615  0.258975  0.804434   \n",
            "22956  -3.189286  0.062207  0.767808  ... -0.655009 -0.400784 -0.503293   \n",
            "119676  0.086132 -1.571468 -0.186547  ... -0.298361  1.521985 -0.505996   \n",
            "39399  -0.141463  0.983998 -0.479086  ...  0.100390 -0.032642  0.117178   \n",
            "3289   -0.326435  0.757703 -0.156352  ...  0.033750 -0.009900 -0.189322   \n",
            "...          ...       ...       ...  ...       ...       ...       ...   \n",
            "167305 -4.640770 -4.339840 -0.950036  ... -1.118687  5.563301 -1.608272   \n",
            "172787 -1.752420  0.281736 -1.792343  ...  0.133106  0.870730  1.269473   \n",
            "176049  2.880083 -0.727484  1.460381  ...  3.973217  1.244287 -1.015232   \n",
            "177195 -2.377140  0.090370  0.004847  ...  0.227051  0.535542  0.863592   \n",
            "178208 -7.674060  4.125761 -5.315778  ... -0.505608  1.775030  1.266441   \n",
            "\n",
            "             V23       V24       V25       V26       V27       V28   Amount  \n",
            "71619  -0.279670  0.777723  0.307530 -0.128688  0.048109  0.048398     9.00  \n",
            "22956   1.070866  0.579892  1.081431 -0.338864 -0.935310  2.387954   133.57  \n",
            "119676  0.143329  0.561538 -0.355607  0.687694  0.217939  0.168708    23.08  \n",
            "39399  -0.208146 -0.734161  0.130288 -0.164929  0.315291  0.093100     7.95  \n",
            "3289   -0.157734  1.005326  0.838403 -0.315582  0.011439  0.018031    30.00  \n",
            "...          ...       ...       ...       ...       ...       ...      ...  \n",
            "167305  0.965322  0.163718  0.047531  0.466165  0.278547  1.471988   105.89  \n",
            "172787 -0.265494 -0.480549  0.169665  0.096081  0.070036  0.063768   144.62  \n",
            "176049 -1.800985  0.657586 -0.435617 -0.894509 -0.397557  0.314262  2125.87  \n",
            "177195  0.450743 -0.144228 -0.205609 -0.539073  0.503418 -0.237807    11.00  \n",
            "178208 -0.199410  0.014960 -0.000019  0.544210 -1.167566 -1.206354    45.51  \n",
            "\n",
            "[728 rows x 30 columns]\n"
          ]
        }
      ]
    },
    {
      "cell_type": "code",
      "source": [
        "print(Y)"
      ],
      "metadata": {
        "colab": {
          "base_uri": "https://localhost:8080/"
        },
        "id": "CJxuqKQiNDQA",
        "outputId": "7ee6285c-81a6-40b6-aa70-6c78fdd9b23b"
      },
      "execution_count": null,
      "outputs": [
        {
          "output_type": "stream",
          "name": "stdout",
          "text": [
            "71619     0.0\n",
            "22956     0.0\n",
            "119676    0.0\n",
            "39399     0.0\n",
            "3289      0.0\n",
            "         ... \n",
            "167305    1.0\n",
            "172787    1.0\n",
            "176049    1.0\n",
            "177195    1.0\n",
            "178208    1.0\n",
            "Name: Class, Length: 728, dtype: float64\n"
          ]
        }
      ]
    },
    {
      "cell_type": "markdown",
      "source": [
        "Split the data into training data and testing data"
      ],
      "metadata": {
        "id": "TeRxSvaiNPac"
      }
    },
    {
      "cell_type": "code",
      "source": [
        "X_train,X_test,Y_train,Y_test = train_test_split(X,Y,test_size=0.2,stratify=Y,random_state=2)"
      ],
      "metadata": {
        "id": "34fP60GiNJmC"
      },
      "execution_count": null,
      "outputs": []
    },
    {
      "cell_type": "code",
      "source": [
        "print(X.shape,X_train.shape,X_test.shape)"
      ],
      "metadata": {
        "colab": {
          "base_uri": "https://localhost:8080/"
        },
        "id": "4X6N3GC5N4nx",
        "outputId": "bd8a37ed-dd02-42b3-a322-aa49dec2e418"
      },
      "execution_count": null,
      "outputs": [
        {
          "output_type": "stream",
          "name": "stdout",
          "text": [
            "(728, 30) (582, 30) (146, 30)\n"
          ]
        }
      ]
    },
    {
      "cell_type": "markdown",
      "source": [
        "Model training\n",
        "\n",
        "Logistic Regression"
      ],
      "metadata": {
        "id": "xLkFN8YoOIU9"
      }
    },
    {
      "cell_type": "code",
      "source": [
        "model =  LogisticRegression()"
      ],
      "metadata": {
        "id": "IIf7Z2_MOHHL"
      },
      "execution_count": null,
      "outputs": []
    },
    {
      "cell_type": "code",
      "source": [
        "#training the logistic Regression Model with training data\n",
        "model.fit(X_train, Y_train)\n"
      ],
      "metadata": {
        "colab": {
          "base_uri": "https://localhost:8080/",
          "height": 74
        },
        "id": "md2ounbUOVQJ",
        "outputId": "bc4b43e1-9a26-4728-90e6-2c0e521e6bde"
      },
      "execution_count": null,
      "outputs": [
        {
          "output_type": "execute_result",
          "data": {
            "text/plain": [
              "LogisticRegression()"
            ],
            "text/html": [
              "<style>#sk-container-id-2 {color: black;background-color: white;}#sk-container-id-2 pre{padding: 0;}#sk-container-id-2 div.sk-toggleable {background-color: white;}#sk-container-id-2 label.sk-toggleable__label {cursor: pointer;display: block;width: 100%;margin-bottom: 0;padding: 0.3em;box-sizing: border-box;text-align: center;}#sk-container-id-2 label.sk-toggleable__label-arrow:before {content: \"▸\";float: left;margin-right: 0.25em;color: #696969;}#sk-container-id-2 label.sk-toggleable__label-arrow:hover:before {color: black;}#sk-container-id-2 div.sk-estimator:hover label.sk-toggleable__label-arrow:before {color: black;}#sk-container-id-2 div.sk-toggleable__content {max-height: 0;max-width: 0;overflow: hidden;text-align: left;background-color: #f0f8ff;}#sk-container-id-2 div.sk-toggleable__content pre {margin: 0.2em;color: black;border-radius: 0.25em;background-color: #f0f8ff;}#sk-container-id-2 input.sk-toggleable__control:checked~div.sk-toggleable__content {max-height: 200px;max-width: 100%;overflow: auto;}#sk-container-id-2 input.sk-toggleable__control:checked~label.sk-toggleable__label-arrow:before {content: \"▾\";}#sk-container-id-2 div.sk-estimator input.sk-toggleable__control:checked~label.sk-toggleable__label {background-color: #d4ebff;}#sk-container-id-2 div.sk-label input.sk-toggleable__control:checked~label.sk-toggleable__label {background-color: #d4ebff;}#sk-container-id-2 input.sk-hidden--visually {border: 0;clip: rect(1px 1px 1px 1px);clip: rect(1px, 1px, 1px, 1px);height: 1px;margin: -1px;overflow: hidden;padding: 0;position: absolute;width: 1px;}#sk-container-id-2 div.sk-estimator {font-family: monospace;background-color: #f0f8ff;border: 1px dotted black;border-radius: 0.25em;box-sizing: border-box;margin-bottom: 0.5em;}#sk-container-id-2 div.sk-estimator:hover {background-color: #d4ebff;}#sk-container-id-2 div.sk-parallel-item::after {content: \"\";width: 100%;border-bottom: 1px solid gray;flex-grow: 1;}#sk-container-id-2 div.sk-label:hover label.sk-toggleable__label {background-color: #d4ebff;}#sk-container-id-2 div.sk-serial::before {content: \"\";position: absolute;border-left: 1px solid gray;box-sizing: border-box;top: 0;bottom: 0;left: 50%;z-index: 0;}#sk-container-id-2 div.sk-serial {display: flex;flex-direction: column;align-items: center;background-color: white;padding-right: 0.2em;padding-left: 0.2em;position: relative;}#sk-container-id-2 div.sk-item {position: relative;z-index: 1;}#sk-container-id-2 div.sk-parallel {display: flex;align-items: stretch;justify-content: center;background-color: white;position: relative;}#sk-container-id-2 div.sk-item::before, #sk-container-id-2 div.sk-parallel-item::before {content: \"\";position: absolute;border-left: 1px solid gray;box-sizing: border-box;top: 0;bottom: 0;left: 50%;z-index: -1;}#sk-container-id-2 div.sk-parallel-item {display: flex;flex-direction: column;z-index: 1;position: relative;background-color: white;}#sk-container-id-2 div.sk-parallel-item:first-child::after {align-self: flex-end;width: 50%;}#sk-container-id-2 div.sk-parallel-item:last-child::after {align-self: flex-start;width: 50%;}#sk-container-id-2 div.sk-parallel-item:only-child::after {width: 0;}#sk-container-id-2 div.sk-dashed-wrapped {border: 1px dashed gray;margin: 0 0.4em 0.5em 0.4em;box-sizing: border-box;padding-bottom: 0.4em;background-color: white;}#sk-container-id-2 div.sk-label label {font-family: monospace;font-weight: bold;display: inline-block;line-height: 1.2em;}#sk-container-id-2 div.sk-label-container {text-align: center;}#sk-container-id-2 div.sk-container {/* jupyter's `normalize.less` sets `[hidden] { display: none; }` but bootstrap.min.css set `[hidden] { display: none !important; }` so we also need the `!important` here to be able to override the default hidden behavior on the sphinx rendered scikit-learn.org. See: https://github.com/scikit-learn/scikit-learn/issues/21755 */display: inline-block !important;position: relative;}#sk-container-id-2 div.sk-text-repr-fallback {display: none;}</style><div id=\"sk-container-id-2\" class=\"sk-top-container\"><div class=\"sk-text-repr-fallback\"><pre>LogisticRegression()</pre><b>In a Jupyter environment, please rerun this cell to show the HTML representation or trust the notebook. <br />On GitHub, the HTML representation is unable to render, please try loading this page with nbviewer.org.</b></div><div class=\"sk-container\" hidden><div class=\"sk-item\"><div class=\"sk-estimator sk-toggleable\"><input class=\"sk-toggleable__control sk-hidden--visually\" id=\"sk-estimator-id-2\" type=\"checkbox\" checked><label for=\"sk-estimator-id-2\" class=\"sk-toggleable__label sk-toggleable__label-arrow\">LogisticRegression</label><div class=\"sk-toggleable__content\"><pre>LogisticRegression()</pre></div></div></div></div></div>"
            ]
          },
          "metadata": {},
          "execution_count": 38
        }
      ]
    },
    {
      "cell_type": "markdown",
      "source": [
        "Model Evalution\n",
        "\n",
        "Accuracy Score"
      ],
      "metadata": {
        "id": "BJZQxA4tPBsQ"
      }
    },
    {
      "cell_type": "code",
      "source": [
        "#accuracy on training data\n",
        "X_train_prediction = model.predict(X_train)\n",
        "training_data_accuracy = accuracy_score(X_train_prediction,Y_train)"
      ],
      "metadata": {
        "id": "ROBHSz_dPA2g"
      },
      "execution_count": null,
      "outputs": []
    },
    {
      "cell_type": "code",
      "source": [
        "print('Accuracy on training data:',training_data_accuracy)"
      ],
      "metadata": {
        "colab": {
          "base_uri": "https://localhost:8080/"
        },
        "id": "qL1xSc54PdV0",
        "outputId": "f94e6f92-e114-4220-fd53-b2b39fc811de"
      },
      "execution_count": null,
      "outputs": [
        {
          "output_type": "stream",
          "name": "stdout",
          "text": [
            "Accuracy on training data: 0.9450171821305842\n"
          ]
        }
      ]
    },
    {
      "cell_type": "code",
      "source": [
        "#accuracy on test data\n",
        "X_test_prediction = model.predict(X_test)\n",
        "test_data_accuracy = accuracy_score(X_test_prediction,Y_test)"
      ],
      "metadata": {
        "id": "tF1bh4AIPj7X"
      },
      "execution_count": null,
      "outputs": []
    },
    {
      "cell_type": "code",
      "source": [
        "print('Accuracy on test data:',test_data_accuracy)"
      ],
      "metadata": {
        "colab": {
          "base_uri": "https://localhost:8080/"
        },
        "id": "sblc6sDBP3bh",
        "outputId": "e825f335-c3ef-470e-90fc-d43970dda6d1"
      },
      "execution_count": null,
      "outputs": [
        {
          "output_type": "stream",
          "name": "stdout",
          "text": [
            "Accuracy on test data: 0.9726027397260274\n"
          ]
        }
      ]
    }
  ]
}